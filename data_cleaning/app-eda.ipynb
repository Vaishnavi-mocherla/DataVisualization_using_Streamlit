{
 "cells": [
  {
   "cell_type": "code",
   "execution_count": 1,
   "id": "52937dcf",
   "metadata": {},
   "outputs": [
    {
     "name": "stderr",
     "output_type": "stream",
     "text": [
      "Matplotlib is building the font cache; this may take a moment.\n"
     ]
    }
   ],
   "source": [
    "import pandas as pd \n",
    "import numpy as np \n",
    "import sklearn as sk\n",
    "import matplotlib.pyplot as plt"
   ]
  },
  {
   "cell_type": "code",
   "execution_count": 8,
   "id": "86724ef6",
   "metadata": {},
   "outputs": [
    {
     "name": "stdout",
     "output_type": "stream",
     "text": [
      "Collecting matplotlib\n",
      "  Downloading matplotlib-3.10.5-cp310-cp310-macosx_11_0_arm64.whl.metadata (11 kB)\n",
      "Collecting contourpy>=1.0.1 (from matplotlib)\n",
      "  Downloading contourpy-1.3.2-cp310-cp310-macosx_11_0_arm64.whl.metadata (5.5 kB)\n",
      "Collecting cycler>=0.10 (from matplotlib)\n",
      "  Using cached cycler-0.12.1-py3-none-any.whl.metadata (3.8 kB)\n",
      "Collecting fonttools>=4.22.0 (from matplotlib)\n",
      "  Downloading fonttools-4.59.1-cp310-cp310-macosx_10_9_universal2.whl.metadata (108 kB)\n",
      "Collecting kiwisolver>=1.3.1 (from matplotlib)\n",
      "  Downloading kiwisolver-1.4.9-cp310-cp310-macosx_11_0_arm64.whl.metadata (6.3 kB)\n",
      "Requirement already satisfied: numpy>=1.23 in /Users/vaishnavimocherla/anaconda3/envs/mynewenv/lib/python3.10/site-packages (from matplotlib) (2.2.6)\n",
      "Requirement already satisfied: packaging>=20.0 in /Users/vaishnavimocherla/anaconda3/envs/mynewenv/lib/python3.10/site-packages (from matplotlib) (25.0)\n",
      "Requirement already satisfied: pillow>=8 in /Users/vaishnavimocherla/anaconda3/envs/mynewenv/lib/python3.10/site-packages (from matplotlib) (11.3.0)\n",
      "Collecting pyparsing>=2.3.1 (from matplotlib)\n",
      "  Downloading pyparsing-3.2.3-py3-none-any.whl.metadata (5.0 kB)\n",
      "Requirement already satisfied: python-dateutil>=2.7 in /Users/vaishnavimocherla/anaconda3/envs/mynewenv/lib/python3.10/site-packages (from matplotlib) (2.9.0.post0)\n",
      "Requirement already satisfied: six>=1.5 in /Users/vaishnavimocherla/anaconda3/envs/mynewenv/lib/python3.10/site-packages (from python-dateutil>=2.7->matplotlib) (1.17.0)\n",
      "Downloading matplotlib-3.10.5-cp310-cp310-macosx_11_0_arm64.whl (8.1 MB)\n",
      "\u001b[2K   \u001b[90m━━━━━━━━━━━━━━━━━━━━━━━━━━━━━━━━━━━━━━━━\u001b[0m \u001b[32m8.1/8.1 MB\u001b[0m \u001b[31m33.8 MB/s\u001b[0m eta \u001b[36m0:00:00\u001b[0ma \u001b[36m0:00:01\u001b[0m\n",
      "\u001b[?25hDownloading contourpy-1.3.2-cp310-cp310-macosx_11_0_arm64.whl (253 kB)\n",
      "Using cached cycler-0.12.1-py3-none-any.whl (8.3 kB)\n",
      "Downloading fonttools-4.59.1-cp310-cp310-macosx_10_9_universal2.whl (2.8 MB)\n",
      "\u001b[2K   \u001b[90m━━━━━━━━━━━━━━━━━━━━━━━━━━━━━━━━━━━━━━━━\u001b[0m \u001b[32m2.8/2.8 MB\u001b[0m \u001b[31m32.6 MB/s\u001b[0m eta \u001b[36m0:00:00\u001b[0m\n",
      "\u001b[?25hDownloading kiwisolver-1.4.9-cp310-cp310-macosx_11_0_arm64.whl (65 kB)\n",
      "Downloading pyparsing-3.2.3-py3-none-any.whl (111 kB)\n",
      "Installing collected packages: pyparsing, kiwisolver, fonttools, cycler, contourpy, matplotlib\n",
      "\u001b[2K   \u001b[90m━━━━━━━━━━━━━━━━━━━━━━━━━━━━━━━━━━━━━━━━\u001b[0m \u001b[32m6/6\u001b[0m [matplotlib]6\u001b[0m [matplotlib]\n",
      "\u001b[1A\u001b[2KSuccessfully installed contourpy-1.3.2 cycler-0.12.1 fonttools-4.59.1 kiwisolver-1.4.9 matplotlib-3.10.5 pyparsing-3.2.3\n",
      "Note: you may need to restart the kernel to use updated packages.\n"
     ]
    }
   ],
   "source": [
    "%pip install matplotlib"
   ]
  },
  {
   "cell_type": "code",
   "execution_count": 7,
   "id": "12c555b1",
   "metadata": {},
   "outputs": [
    {
     "name": "stdout",
     "output_type": "stream",
     "text": [
      "Requirement already satisfied: scikit-learn in /Users/vaishnavimocherla/anaconda3/envs/mynewenv/lib/python3.10/site-packages (1.7.1)\n",
      "Requirement already satisfied: numpy>=1.22.0 in /Users/vaishnavimocherla/anaconda3/envs/mynewenv/lib/python3.10/site-packages (from scikit-learn) (2.2.6)\n",
      "Requirement already satisfied: scipy>=1.8.0 in /Users/vaishnavimocherla/anaconda3/envs/mynewenv/lib/python3.10/site-packages (from scikit-learn) (1.15.3)\n",
      "Requirement already satisfied: joblib>=1.2.0 in /Users/vaishnavimocherla/anaconda3/envs/mynewenv/lib/python3.10/site-packages (from scikit-learn) (1.5.1)\n",
      "Requirement already satisfied: threadpoolctl>=3.1.0 in /Users/vaishnavimocherla/anaconda3/envs/mynewenv/lib/python3.10/site-packages (from scikit-learn) (3.6.0)\n",
      "Note: you may need to restart the kernel to use updated packages.\n"
     ]
    }
   ],
   "source": [
    "%pip install scikit-learn"
   ]
  },
  {
   "cell_type": "code",
   "execution_count": 3,
   "id": "f4e7c233",
   "metadata": {},
   "outputs": [
    {
     "name": "stdout",
     "output_type": "stream",
     "text": [
      "Collecting openpyxl\n",
      "  Downloading openpyxl-3.1.5-py2.py3-none-any.whl.metadata (2.5 kB)\n",
      "Collecting et-xmlfile (from openpyxl)\n",
      "  Downloading et_xmlfile-2.0.0-py3-none-any.whl.metadata (2.7 kB)\n",
      "Downloading openpyxl-3.1.5-py2.py3-none-any.whl (250 kB)\n",
      "Downloading et_xmlfile-2.0.0-py3-none-any.whl (18 kB)\n",
      "Installing collected packages: et-xmlfile, openpyxl\n",
      "\u001b[2K   \u001b[90m━━━━━━━━━━━━━━━━━━━━━━━━━━━━━━━━━━━━━━━━\u001b[0m \u001b[32m2/2\u001b[0m [openpyxl]1/2\u001b[0m [openpyxl]\n",
      "\u001b[1A\u001b[2KSuccessfully installed et-xmlfile-2.0.0 openpyxl-3.1.5\n",
      "Note: you may need to restart the kernel to use updated packages.\n"
     ]
    }
   ],
   "source": [
    "%pip install openpyxl"
   ]
  },
  {
   "cell_type": "code",
   "execution_count": 4,
   "id": "3ceda7fa",
   "metadata": {},
   "outputs": [],
   "source": [
    "df = pd.read_excel('/Users/vaishnavimocherla/Desktop/Rh/Adidas.xlsx')"
   ]
  },
  {
   "cell_type": "code",
   "execution_count": 5,
   "id": "3f62470d",
   "metadata": {},
   "outputs": [
    {
     "data": {
      "text/html": [
       "<div>\n",
       "<style scoped>\n",
       "    .dataframe tbody tr th:only-of-type {\n",
       "        vertical-align: middle;\n",
       "    }\n",
       "\n",
       "    .dataframe tbody tr th {\n",
       "        vertical-align: top;\n",
       "    }\n",
       "\n",
       "    .dataframe thead th {\n",
       "        text-align: right;\n",
       "    }\n",
       "</style>\n",
       "<table border=\"1\" class=\"dataframe\">\n",
       "  <thead>\n",
       "    <tr style=\"text-align: right;\">\n",
       "      <th></th>\n",
       "      <th>Retailer</th>\n",
       "      <th>RetailerID</th>\n",
       "      <th>InvoiceDate</th>\n",
       "      <th>Region</th>\n",
       "      <th>State</th>\n",
       "      <th>City</th>\n",
       "      <th>Product</th>\n",
       "      <th>PriceperUnit</th>\n",
       "      <th>UnitsSold</th>\n",
       "      <th>TotalSales</th>\n",
       "      <th>OperatingProfit</th>\n",
       "      <th>OperatingMargin</th>\n",
       "      <th>SalesMethod</th>\n",
       "    </tr>\n",
       "  </thead>\n",
       "  <tbody>\n",
       "    <tr>\n",
       "      <th>0</th>\n",
       "      <td>Foot Locker</td>\n",
       "      <td>1185732</td>\n",
       "      <td>2020-02-03</td>\n",
       "      <td>Northeast</td>\n",
       "      <td>New York</td>\n",
       "      <td>New York</td>\n",
       "      <td>Women's Athletic Footwear</td>\n",
       "      <td>45.0</td>\n",
       "      <td>825</td>\n",
       "      <td>371250.0</td>\n",
       "      <td>129937.5</td>\n",
       "      <td>0.35</td>\n",
       "      <td>Outlet</td>\n",
       "    </tr>\n",
       "    <tr>\n",
       "      <th>1</th>\n",
       "      <td>Foot Locker</td>\n",
       "      <td>1185732</td>\n",
       "      <td>2020-02-04</td>\n",
       "      <td>Northeast</td>\n",
       "      <td>New York</td>\n",
       "      <td>New York</td>\n",
       "      <td>Men's Apparel</td>\n",
       "      <td>60.0</td>\n",
       "      <td>825</td>\n",
       "      <td>495000.0</td>\n",
       "      <td>148500.0</td>\n",
       "      <td>0.30</td>\n",
       "      <td>Outlet</td>\n",
       "    </tr>\n",
       "    <tr>\n",
       "      <th>2</th>\n",
       "      <td>Foot Locker</td>\n",
       "      <td>1185732</td>\n",
       "      <td>2020-02-05</td>\n",
       "      <td>Northeast</td>\n",
       "      <td>New York</td>\n",
       "      <td>New York</td>\n",
       "      <td>Women's Apparel</td>\n",
       "      <td>50.0</td>\n",
       "      <td>950</td>\n",
       "      <td>475000.0</td>\n",
       "      <td>118750.0</td>\n",
       "      <td>0.25</td>\n",
       "      <td>Outlet</td>\n",
       "    </tr>\n",
       "    <tr>\n",
       "      <th>3</th>\n",
       "      <td>Foot Locker</td>\n",
       "      <td>1185732</td>\n",
       "      <td>2020-02-06</td>\n",
       "      <td>Northeast</td>\n",
       "      <td>New York</td>\n",
       "      <td>New York</td>\n",
       "      <td>Men's Street Footwear</td>\n",
       "      <td>60.0</td>\n",
       "      <td>1220</td>\n",
       "      <td>732000.0</td>\n",
       "      <td>366000.0</td>\n",
       "      <td>0.50</td>\n",
       "      <td>Outlet</td>\n",
       "    </tr>\n",
       "    <tr>\n",
       "      <th>4</th>\n",
       "      <td>Foot Locker</td>\n",
       "      <td>1185732</td>\n",
       "      <td>2020-02-07</td>\n",
       "      <td>Northeast</td>\n",
       "      <td>New York</td>\n",
       "      <td>New York</td>\n",
       "      <td>Men's Athletic Footwear</td>\n",
       "      <td>55.0</td>\n",
       "      <td>925</td>\n",
       "      <td>508750.0</td>\n",
       "      <td>152625.0</td>\n",
       "      <td>0.30</td>\n",
       "      <td>Outlet</td>\n",
       "    </tr>\n",
       "  </tbody>\n",
       "</table>\n",
       "</div>"
      ],
      "text/plain": [
       "      Retailer  RetailerID InvoiceDate     Region     State      City  \\\n",
       "0  Foot Locker     1185732  2020-02-03  Northeast  New York  New York   \n",
       "1  Foot Locker     1185732  2020-02-04  Northeast  New York  New York   \n",
       "2  Foot Locker     1185732  2020-02-05  Northeast  New York  New York   \n",
       "3  Foot Locker     1185732  2020-02-06  Northeast  New York  New York   \n",
       "4  Foot Locker     1185732  2020-02-07  Northeast  New York  New York   \n",
       "\n",
       "                     Product  PriceperUnit  UnitsSold  TotalSales  \\\n",
       "0  Women's Athletic Footwear          45.0        825    371250.0   \n",
       "1              Men's Apparel          60.0        825    495000.0   \n",
       "2            Women's Apparel          50.0        950    475000.0   \n",
       "3      Men's Street Footwear          60.0       1220    732000.0   \n",
       "4    Men's Athletic Footwear          55.0        925    508750.0   \n",
       "\n",
       "   OperatingProfit  OperatingMargin SalesMethod  \n",
       "0         129937.5             0.35      Outlet  \n",
       "1         148500.0             0.30      Outlet  \n",
       "2         118750.0             0.25      Outlet  \n",
       "3         366000.0             0.50      Outlet  \n",
       "4         152625.0             0.30      Outlet  "
      ]
     },
     "execution_count": 5,
     "metadata": {},
     "output_type": "execute_result"
    }
   ],
   "source": [
    "df.head()"
   ]
  },
  {
   "cell_type": "code",
   "execution_count": 18,
   "id": "c86c4973",
   "metadata": {},
   "outputs": [
    {
     "data": {
      "text/plain": [
       "Retailer\n",
       "Foot Locker      2637\n",
       "West Gear        2374\n",
       "Sports Direct    2032\n",
       "Kohl's           1030\n",
       "Amazon            949\n",
       "Walmart           626\n",
       "Name: count, dtype: int64"
      ]
     },
     "execution_count": 18,
     "metadata": {},
     "output_type": "execute_result"
    }
   ],
   "source": [
    "df['Retailer'].unique()\n",
    "df['Retailer'].value_counts()"
   ]
  },
  {
   "cell_type": "code",
   "execution_count": 21,
   "id": "1ae31481",
   "metadata": {},
   "outputs": [
    {
     "data": {
      "text/plain": [
       "array(['New York', 'Texas', 'California', 'Illinois', 'Pennsylvania',\n",
       "       'Nevada', 'Colorado', 'Washington', 'Florida', 'Minnesota',\n",
       "       'Montana', 'Tennessee', 'Nebraska', 'Alabama', 'Maine', 'Alaska',\n",
       "       'Hawaii', 'Wyoming', 'Virginia', 'Michigan', 'Missouri', 'Utah',\n",
       "       'Oregon', 'Louisiana', 'Idaho', 'Arizona', 'New Mexico', 'Georgia',\n",
       "       'South Carolina', 'North Carolina', 'Ohio', 'Kentucky',\n",
       "       'Mississippi', 'Arkansas', 'Oklahoma', 'Kansas', 'South Dakota',\n",
       "       'North Dakota', 'Iowa', 'Wisconsin', 'Indiana', 'West Virginia',\n",
       "       'Maryland', 'Delaware', 'New Jersey', 'Connecticut',\n",
       "       'Rhode Island', 'Massachusetts', 'Vermont', 'New Hampshire'],\n",
       "      dtype=object)"
      ]
     },
     "execution_count": 21,
     "metadata": {},
     "output_type": "execute_result"
    }
   ],
   "source": [
    "df['State'].unique()"
   ]
  },
  {
   "cell_type": "code",
   "execution_count": 15,
   "id": "75571d31",
   "metadata": {},
   "outputs": [
    {
     "data": {
      "text/plain": [
       "array(['New York', 'Houston', 'San Francisco', 'Los Angeles', 'Chicago',\n",
       "       'Dallas', 'Philadelphia', 'Las Vegas', 'Denver', 'Seattle',\n",
       "       'Miami', 'Minneapolis', 'Billings', 'Knoxville', 'Omaha',\n",
       "       'Birmingham', 'Portland', 'Anchorage', 'Honolulu', 'Orlando',\n",
       "       'Albany', 'Cheyenne', 'Richmond', 'Detroit', 'St. Louis',\n",
       "       'Salt Lake City', 'New Orleans', 'Boise', 'Phoenix', 'Albuquerque',\n",
       "       'Atlanta', 'Charleston', 'Charlotte', 'Columbus', 'Louisville',\n",
       "       'Jackson', 'Little Rock', 'Oklahoma City', 'Wichita',\n",
       "       'Sioux Falls', 'Fargo', 'Des Moines', 'Milwaukee', 'Indianapolis',\n",
       "       'Baltimore', 'Wilmington', 'Newark', 'Hartford', 'Providence',\n",
       "       'Boston', 'Burlington', 'Manchester'], dtype=object)"
      ]
     },
     "execution_count": 15,
     "metadata": {},
     "output_type": "execute_result"
    }
   ],
   "source": [
    "df['City'].unique()"
   ]
  },
  {
   "cell_type": "code",
   "execution_count": 16,
   "id": "07d36157",
   "metadata": {},
   "outputs": [
    {
     "data": {
      "text/plain": [
       "array([\"Women's Athletic Footwear\", \"Men's Apparel\", \"Women's Apparel\",\n",
       "       \"Men's Street Footwear\", \"Men's Athletic Footwear\",\n",
       "       \"Women's Street Footwear\"], dtype=object)"
      ]
     },
     "execution_count": 16,
     "metadata": {},
     "output_type": "execute_result"
    }
   ],
   "source": [
    "df['Product'].unique()\n"
   ]
  },
  {
   "cell_type": "code",
   "execution_count": 17,
   "id": "a5d51fbd",
   "metadata": {},
   "outputs": [
    {
     "data": {
      "text/plain": [
       "array(['Outlet', 'In-store', 'Online'], dtype=object)"
      ]
     },
     "execution_count": 17,
     "metadata": {},
     "output_type": "execute_result"
    }
   ],
   "source": [
    "df['SalesMethod'].unique()"
   ]
  },
  {
   "cell_type": "code",
   "execution_count": 24,
   "id": "7a74cf72",
   "metadata": {},
   "outputs": [
    {
     "name": "stdout",
     "output_type": "stream",
     "text": [
      "<class 'pandas.core.frame.DataFrame'>\n",
      "RangeIndex: 9648 entries, 0 to 9647\n",
      "Data columns (total 13 columns):\n",
      " #   Column           Non-Null Count  Dtype         \n",
      "---  ------           --------------  -----         \n",
      " 0   Retailer         9648 non-null   object        \n",
      " 1   RetailerID       9648 non-null   int64         \n",
      " 2   InvoiceDate      9648 non-null   datetime64[ns]\n",
      " 3   Region           9648 non-null   object        \n",
      " 4   State            9648 non-null   object        \n",
      " 5   City             9648 non-null   object        \n",
      " 6   Product          9648 non-null   object        \n",
      " 7   PriceperUnit     9648 non-null   float64       \n",
      " 8   UnitsSold        9648 non-null   int64         \n",
      " 9   TotalSales       9648 non-null   float64       \n",
      " 10  OperatingProfit  9648 non-null   float64       \n",
      " 11  OperatingMargin  9648 non-null   float64       \n",
      " 12  SalesMethod      9648 non-null   object        \n",
      "dtypes: datetime64[ns](1), float64(4), int64(2), object(6)\n",
      "memory usage: 980.0+ KB\n"
     ]
    }
   ],
   "source": [
    "df.info()"
   ]
  },
  {
   "cell_type": "markdown",
   "id": "b3a6897e",
   "metadata": {},
   "source": [
    "Transformation"
   ]
  },
  {
   "cell_type": "code",
   "execution_count": 25,
   "id": "a522ee0e",
   "metadata": {},
   "outputs": [
    {
     "name": "stdout",
     "output_type": "stream",
     "text": [
      "State: 50 unique → ['New York' 'Texas' 'California' 'Illinois' 'Pennsylvania']\n",
      "City: 52 unique → ['New York' 'Houston' 'San Francisco' 'Los Angeles' 'Chicago']\n",
      "Product: 6 unique → [\"Women's Athletic Footwear\" \"Men's Apparel\" \"Women's Apparel\"\n",
      " \"Men's Street Footwear\" \"Men's Athletic Footwear\"]\n"
     ]
    }
   ],
   "source": [
    "for col in ['State', 'City', 'Product']:\n",
    "    print(f\"{col}: {df[col].nunique()} unique → {df[col].unique()[:5]}\")\n"
   ]
  },
  {
   "cell_type": "code",
   "execution_count": 26,
   "id": "9dcd426a",
   "metadata": {},
   "outputs": [
    {
     "data": {
      "text/plain": [
       "State\n",
       "california        432\n",
       "texas             432\n",
       "new york          360\n",
       "florida           360\n",
       "mississippi       216\n",
       "oregon            216\n",
       "louisiana         216\n",
       "idaho             216\n",
       "new mexico        216\n",
       "georgia           216\n",
       "arkansas          216\n",
       "virginia          216\n",
       "oklahoma          216\n",
       "connecticut       216\n",
       "rhode island      216\n",
       "massachusetts     216\n",
       "vermont           216\n",
       "utah              216\n",
       "arizona           216\n",
       "new hampshire     216\n",
       "pennsylvania      216\n",
       "nevada            216\n",
       "alabama           216\n",
       "tennessee         216\n",
       "south dakota      144\n",
       "illinois          144\n",
       "colorado          144\n",
       "new jersey        144\n",
       "delaware          144\n",
       "maryland          144\n",
       "west virginia     144\n",
       "indiana           144\n",
       "wisconsin         144\n",
       "iowa              144\n",
       "north dakota      144\n",
       "michigan          144\n",
       "kansas            144\n",
       "missouri          144\n",
       "minnesota         144\n",
       "montana           144\n",
       "kentucky          144\n",
       "ohio              144\n",
       "north carolina    144\n",
       "south carolina    144\n",
       "nebraska          144\n",
       "maine             144\n",
       "alaska            144\n",
       "hawaii            144\n",
       "wyoming           144\n",
       "washington        144\n",
       "Name: count, dtype: int64"
      ]
     },
     "execution_count": 26,
     "metadata": {},
     "output_type": "execute_result"
    }
   ],
   "source": [
    "df['State'].str.lower().str.strip().value_counts()\n"
   ]
  },
  {
   "cell_type": "code",
   "execution_count": 27,
   "id": "700876df",
   "metadata": {},
   "outputs": [
    {
     "data": {
      "text/plain": [
       "0   2020-02-03\n",
       "1   2020-02-04\n",
       "2   2020-02-05\n",
       "3   2020-02-06\n",
       "4   2020-02-07\n",
       "Name: InvoiceDate, dtype: datetime64[ns]"
      ]
     },
     "execution_count": 27,
     "metadata": {},
     "output_type": "execute_result"
    }
   ],
   "source": [
    "df['InvoiceDate'].head()"
   ]
  },
  {
   "cell_type": "code",
   "execution_count": 30,
   "id": "ee68e383",
   "metadata": {},
   "outputs": [],
   "source": [
    "df['InvoiceDate'] = pd.to_datetime(df['InvoiceDate'])\n",
    "df['year'] = df['InvoiceDate'].dt.year\n",
    "df['month'] = df['InvoiceDate'].dt.month\n",
    "df['day'] = df['InvoiceDate'].dt.day"
   ]
  },
  {
   "cell_type": "code",
   "execution_count": 31,
   "id": "91c9141c",
   "metadata": {},
   "outputs": [
    {
     "data": {
      "text/html": [
       "<div>\n",
       "<style scoped>\n",
       "    .dataframe tbody tr th:only-of-type {\n",
       "        vertical-align: middle;\n",
       "    }\n",
       "\n",
       "    .dataframe tbody tr th {\n",
       "        vertical-align: top;\n",
       "    }\n",
       "\n",
       "    .dataframe thead th {\n",
       "        text-align: right;\n",
       "    }\n",
       "</style>\n",
       "<table border=\"1\" class=\"dataframe\">\n",
       "  <thead>\n",
       "    <tr style=\"text-align: right;\">\n",
       "      <th></th>\n",
       "      <th>Retailer</th>\n",
       "      <th>RetailerID</th>\n",
       "      <th>InvoiceDate</th>\n",
       "      <th>Region</th>\n",
       "      <th>State</th>\n",
       "      <th>City</th>\n",
       "      <th>Product</th>\n",
       "      <th>PriceperUnit</th>\n",
       "      <th>UnitsSold</th>\n",
       "      <th>TotalSales</th>\n",
       "      <th>OperatingProfit</th>\n",
       "      <th>OperatingMargin</th>\n",
       "      <th>SalesMethod</th>\n",
       "      <th>year</th>\n",
       "      <th>month</th>\n",
       "      <th>day</th>\n",
       "    </tr>\n",
       "  </thead>\n",
       "  <tbody>\n",
       "    <tr>\n",
       "      <th>0</th>\n",
       "      <td>Foot Locker</td>\n",
       "      <td>1185732</td>\n",
       "      <td>2020-02-03</td>\n",
       "      <td>Northeast</td>\n",
       "      <td>New York</td>\n",
       "      <td>New York</td>\n",
       "      <td>Women's Athletic Footwear</td>\n",
       "      <td>45.0</td>\n",
       "      <td>825</td>\n",
       "      <td>371250.0</td>\n",
       "      <td>129937.5</td>\n",
       "      <td>0.35</td>\n",
       "      <td>Outlet</td>\n",
       "      <td>2020</td>\n",
       "      <td>2</td>\n",
       "      <td>3</td>\n",
       "    </tr>\n",
       "    <tr>\n",
       "      <th>1</th>\n",
       "      <td>Foot Locker</td>\n",
       "      <td>1185732</td>\n",
       "      <td>2020-02-04</td>\n",
       "      <td>Northeast</td>\n",
       "      <td>New York</td>\n",
       "      <td>New York</td>\n",
       "      <td>Men's Apparel</td>\n",
       "      <td>60.0</td>\n",
       "      <td>825</td>\n",
       "      <td>495000.0</td>\n",
       "      <td>148500.0</td>\n",
       "      <td>0.30</td>\n",
       "      <td>Outlet</td>\n",
       "      <td>2020</td>\n",
       "      <td>2</td>\n",
       "      <td>4</td>\n",
       "    </tr>\n",
       "    <tr>\n",
       "      <th>2</th>\n",
       "      <td>Foot Locker</td>\n",
       "      <td>1185732</td>\n",
       "      <td>2020-02-05</td>\n",
       "      <td>Northeast</td>\n",
       "      <td>New York</td>\n",
       "      <td>New York</td>\n",
       "      <td>Women's Apparel</td>\n",
       "      <td>50.0</td>\n",
       "      <td>950</td>\n",
       "      <td>475000.0</td>\n",
       "      <td>118750.0</td>\n",
       "      <td>0.25</td>\n",
       "      <td>Outlet</td>\n",
       "      <td>2020</td>\n",
       "      <td>2</td>\n",
       "      <td>5</td>\n",
       "    </tr>\n",
       "    <tr>\n",
       "      <th>3</th>\n",
       "      <td>Foot Locker</td>\n",
       "      <td>1185732</td>\n",
       "      <td>2020-02-06</td>\n",
       "      <td>Northeast</td>\n",
       "      <td>New York</td>\n",
       "      <td>New York</td>\n",
       "      <td>Men's Street Footwear</td>\n",
       "      <td>60.0</td>\n",
       "      <td>1220</td>\n",
       "      <td>732000.0</td>\n",
       "      <td>366000.0</td>\n",
       "      <td>0.50</td>\n",
       "      <td>Outlet</td>\n",
       "      <td>2020</td>\n",
       "      <td>2</td>\n",
       "      <td>6</td>\n",
       "    </tr>\n",
       "    <tr>\n",
       "      <th>4</th>\n",
       "      <td>Foot Locker</td>\n",
       "      <td>1185732</td>\n",
       "      <td>2020-02-07</td>\n",
       "      <td>Northeast</td>\n",
       "      <td>New York</td>\n",
       "      <td>New York</td>\n",
       "      <td>Men's Athletic Footwear</td>\n",
       "      <td>55.0</td>\n",
       "      <td>925</td>\n",
       "      <td>508750.0</td>\n",
       "      <td>152625.0</td>\n",
       "      <td>0.30</td>\n",
       "      <td>Outlet</td>\n",
       "      <td>2020</td>\n",
       "      <td>2</td>\n",
       "      <td>7</td>\n",
       "    </tr>\n",
       "  </tbody>\n",
       "</table>\n",
       "</div>"
      ],
      "text/plain": [
       "      Retailer  RetailerID InvoiceDate     Region     State      City  \\\n",
       "0  Foot Locker     1185732  2020-02-03  Northeast  New York  New York   \n",
       "1  Foot Locker     1185732  2020-02-04  Northeast  New York  New York   \n",
       "2  Foot Locker     1185732  2020-02-05  Northeast  New York  New York   \n",
       "3  Foot Locker     1185732  2020-02-06  Northeast  New York  New York   \n",
       "4  Foot Locker     1185732  2020-02-07  Northeast  New York  New York   \n",
       "\n",
       "                     Product  PriceperUnit  UnitsSold  TotalSales  \\\n",
       "0  Women's Athletic Footwear          45.0        825    371250.0   \n",
       "1              Men's Apparel          60.0        825    495000.0   \n",
       "2            Women's Apparel          50.0        950    475000.0   \n",
       "3      Men's Street Footwear          60.0       1220    732000.0   \n",
       "4    Men's Athletic Footwear          55.0        925    508750.0   \n",
       "\n",
       "   OperatingProfit  OperatingMargin SalesMethod  year  month  day  \n",
       "0         129937.5             0.35      Outlet  2020      2    3  \n",
       "1         148500.0             0.30      Outlet  2020      2    4  \n",
       "2         118750.0             0.25      Outlet  2020      2    5  \n",
       "3         366000.0             0.50      Outlet  2020      2    6  \n",
       "4         152625.0             0.30      Outlet  2020      2    7  "
      ]
     },
     "execution_count": 31,
     "metadata": {},
     "output_type": "execute_result"
    }
   ],
   "source": [
    "df.head()"
   ]
  },
  {
   "cell_type": "code",
   "execution_count": 32,
   "id": "af77066e",
   "metadata": {},
   "outputs": [],
   "source": [
    "df['Product'] = df['Product'].str.strip().str.title()\n",
    "df['SalesMethod'] = df['SalesMethod'].str.strip().str.title()   \n",
    "df['Retailer'] = df['Retailer'].str.strip().str.title()\n",
    "df['State'] = df['State'].str.strip().str.title()\n",
    "df['City'] = df['City'].str.strip().str.title() "
   ]
  },
  {
   "cell_type": "code",
   "execution_count": 34,
   "id": "2a2f6822",
   "metadata": {},
   "outputs": [],
   "source": [
    "# Create a new column for Revenue per Unit = TotalSales / UnitsSold\n",
    "df['RevenuePerUnit'] = df['TotalSales'] / df['UnitsSold']"
   ]
  },
  {
   "cell_type": "code",
   "execution_count": 53,
   "id": "2da7574f",
   "metadata": {},
   "outputs": [
    {
     "data": {
      "text/html": [
       "<div>\n",
       "<style scoped>\n",
       "    .dataframe tbody tr th:only-of-type {\n",
       "        vertical-align: middle;\n",
       "    }\n",
       "\n",
       "    .dataframe tbody tr th {\n",
       "        vertical-align: top;\n",
       "    }\n",
       "\n",
       "    .dataframe thead th {\n",
       "        text-align: right;\n",
       "    }\n",
       "</style>\n",
       "<table border=\"1\" class=\"dataframe\">\n",
       "  <thead>\n",
       "    <tr style=\"text-align: right;\">\n",
       "      <th></th>\n",
       "      <th>Retailer</th>\n",
       "      <th>RetailerID</th>\n",
       "      <th>InvoiceDate</th>\n",
       "      <th>Region</th>\n",
       "      <th>State</th>\n",
       "      <th>City</th>\n",
       "      <th>Product</th>\n",
       "      <th>PriceperUnit</th>\n",
       "      <th>UnitsSold</th>\n",
       "      <th>TotalSales</th>\n",
       "      <th>...</th>\n",
       "      <th>SalesMethod</th>\n",
       "      <th>year</th>\n",
       "      <th>month</th>\n",
       "      <th>day</th>\n",
       "      <th>RevenuePerUnit</th>\n",
       "      <th>ProfitMargin</th>\n",
       "      <th>SalesCategory</th>\n",
       "      <th>CumulativeSales_Region</th>\n",
       "      <th>MonthlyAvgSales</th>\n",
       "      <th>percent_contribution</th>\n",
       "    </tr>\n",
       "  </thead>\n",
       "  <tbody>\n",
       "    <tr>\n",
       "      <th>792</th>\n",
       "      <td>Foot Locker</td>\n",
       "      <td>1185732</td>\n",
       "      <td>2020-10-21</td>\n",
       "      <td>Midwest</td>\n",
       "      <td>Minnesota</td>\n",
       "      <td>Minneapolis</td>\n",
       "      <td>Men'S Apparel</td>\n",
       "      <td>45.0</td>\n",
       "      <td>150</td>\n",
       "      <td>67500.0</td>\n",
       "      <td>...</td>\n",
       "      <td>In-Store</td>\n",
       "      <td>2020</td>\n",
       "      <td>10</td>\n",
       "      <td>21</td>\n",
       "      <td>450.0</td>\n",
       "      <td>30.0</td>\n",
       "      <td>Medium</td>\n",
       "      <td>67500.0</td>\n",
       "      <td>126003.127907</td>\n",
       "      <td>0.030699</td>\n",
       "    </tr>\n",
       "    <tr>\n",
       "      <th>4680</th>\n",
       "      <td>Foot Locker</td>\n",
       "      <td>1185732</td>\n",
       "      <td>2020-10-21</td>\n",
       "      <td>Midwest</td>\n",
       "      <td>Minnesota</td>\n",
       "      <td>Minneapolis</td>\n",
       "      <td>Men'S Apparel</td>\n",
       "      <td>43.0</td>\n",
       "      <td>39</td>\n",
       "      <td>1677.0</td>\n",
       "      <td>...</td>\n",
       "      <td>Online</td>\n",
       "      <td>2020</td>\n",
       "      <td>10</td>\n",
       "      <td>21</td>\n",
       "      <td>43.0</td>\n",
       "      <td>45.0</td>\n",
       "      <td>Low</td>\n",
       "      <td>69177.0</td>\n",
       "      <td>126003.127907</td>\n",
       "      <td>0.000763</td>\n",
       "    </tr>\n",
       "    <tr>\n",
       "      <th>793</th>\n",
       "      <td>Foot Locker</td>\n",
       "      <td>1185732</td>\n",
       "      <td>2020-10-22</td>\n",
       "      <td>Midwest</td>\n",
       "      <td>Minnesota</td>\n",
       "      <td>Minneapolis</td>\n",
       "      <td>Women'S Apparel</td>\n",
       "      <td>35.0</td>\n",
       "      <td>250</td>\n",
       "      <td>87500.0</td>\n",
       "      <td>...</td>\n",
       "      <td>In-Store</td>\n",
       "      <td>2020</td>\n",
       "      <td>10</td>\n",
       "      <td>22</td>\n",
       "      <td>350.0</td>\n",
       "      <td>45.0</td>\n",
       "      <td>High</td>\n",
       "      <td>156677.0</td>\n",
       "      <td>126003.127907</td>\n",
       "      <td>0.039795</td>\n",
       "    </tr>\n",
       "    <tr>\n",
       "      <th>4681</th>\n",
       "      <td>Foot Locker</td>\n",
       "      <td>1185732</td>\n",
       "      <td>2020-10-22</td>\n",
       "      <td>Midwest</td>\n",
       "      <td>Minnesota</td>\n",
       "      <td>Minneapolis</td>\n",
       "      <td>Women'S Apparel</td>\n",
       "      <td>32.0</td>\n",
       "      <td>65</td>\n",
       "      <td>2080.0</td>\n",
       "      <td>...</td>\n",
       "      <td>Online</td>\n",
       "      <td>2020</td>\n",
       "      <td>10</td>\n",
       "      <td>22</td>\n",
       "      <td>32.0</td>\n",
       "      <td>56.0</td>\n",
       "      <td>Low</td>\n",
       "      <td>158757.0</td>\n",
       "      <td>126003.127907</td>\n",
       "      <td>0.000946</td>\n",
       "    </tr>\n",
       "    <tr>\n",
       "      <th>794</th>\n",
       "      <td>Foot Locker</td>\n",
       "      <td>1185732</td>\n",
       "      <td>2020-10-23</td>\n",
       "      <td>Midwest</td>\n",
       "      <td>Minnesota</td>\n",
       "      <td>Minneapolis</td>\n",
       "      <td>Men'S Street Footwear</td>\n",
       "      <td>35.0</td>\n",
       "      <td>500</td>\n",
       "      <td>175000.0</td>\n",
       "      <td>...</td>\n",
       "      <td>In-Store</td>\n",
       "      <td>2020</td>\n",
       "      <td>10</td>\n",
       "      <td>23</td>\n",
       "      <td>350.0</td>\n",
       "      <td>35.0</td>\n",
       "      <td>High</td>\n",
       "      <td>333757.0</td>\n",
       "      <td>126003.127907</td>\n",
       "      <td>0.079590</td>\n",
       "    </tr>\n",
       "  </tbody>\n",
       "</table>\n",
       "<p>5 rows × 22 columns</p>\n",
       "</div>"
      ],
      "text/plain": [
       "         Retailer  RetailerID InvoiceDate   Region      State         City  \\\n",
       "792   Foot Locker     1185732  2020-10-21  Midwest  Minnesota  Minneapolis   \n",
       "4680  Foot Locker     1185732  2020-10-21  Midwest  Minnesota  Minneapolis   \n",
       "793   Foot Locker     1185732  2020-10-22  Midwest  Minnesota  Minneapolis   \n",
       "4681  Foot Locker     1185732  2020-10-22  Midwest  Minnesota  Minneapolis   \n",
       "794   Foot Locker     1185732  2020-10-23  Midwest  Minnesota  Minneapolis   \n",
       "\n",
       "                    Product  PriceperUnit  UnitsSold  TotalSales  ...  \\\n",
       "792           Men'S Apparel          45.0        150     67500.0  ...   \n",
       "4680          Men'S Apparel          43.0         39      1677.0  ...   \n",
       "793         Women'S Apparel          35.0        250     87500.0  ...   \n",
       "4681        Women'S Apparel          32.0         65      2080.0  ...   \n",
       "794   Men'S Street Footwear          35.0        500    175000.0  ...   \n",
       "\n",
       "      SalesMethod  year month  day  RevenuePerUnit  ProfitMargin  \\\n",
       "792      In-Store  2020    10   21           450.0          30.0   \n",
       "4680       Online  2020    10   21            43.0          45.0   \n",
       "793      In-Store  2020    10   22           350.0          45.0   \n",
       "4681       Online  2020    10   22            32.0          56.0   \n",
       "794      In-Store  2020    10   23           350.0          35.0   \n",
       "\n",
       "      SalesCategory  CumulativeSales_Region MonthlyAvgSales  \\\n",
       "792          Medium                 67500.0   126003.127907   \n",
       "4680            Low                 69177.0   126003.127907   \n",
       "793            High                156677.0   126003.127907   \n",
       "4681            Low                158757.0   126003.127907   \n",
       "794            High                333757.0   126003.127907   \n",
       "\n",
       "      percent_contribution  \n",
       "792               0.030699  \n",
       "4680              0.000763  \n",
       "793               0.039795  \n",
       "4681              0.000946  \n",
       "794               0.079590  \n",
       "\n",
       "[5 rows x 22 columns]"
      ]
     },
     "execution_count": 53,
     "metadata": {},
     "output_type": "execute_result"
    }
   ],
   "source": [
    "df.head()"
   ]
  },
  {
   "cell_type": "code",
   "execution_count": null,
   "id": "f41af980",
   "metadata": {},
   "outputs": [],
   "source": [
    "#Profit Margin \n",
    "df['ProfitMargin'] = (df['OperatingProfit'] / df['TotalSales']) * 100"
   ]
  },
  {
   "cell_type": "code",
   "execution_count": 44,
   "id": "460084b8",
   "metadata": {},
   "outputs": [],
   "source": [
    "# Sales Category (e.g., flag high vs low sales days using quantiles).\n",
    "\n",
    "# Suppose df[\"TotalSales\"] is your numeric column\n",
    "df[\"SalesCategory\"] = pd.qcut(\n",
    "    df[\"TotalSales\"], \n",
    "    q=3,   # split into 3 categories (low, medium, high)\n",
    "    labels=[\"Low\", \"Medium\", \"High\"]\n",
    ")\n"
   ]
  },
  {
   "cell_type": "code",
   "execution_count": 48,
   "id": "ab6c7e39",
   "metadata": {},
   "outputs": [],
   "source": [
    "df = df.sort_values([\"Region\", \"InvoiceDate\"])\n",
    "\n",
    "df[\"CumulativeSales_Region\"] = (\n",
    "    df.groupby(\"Region\")[\"TotalSales\"].cumsum()\n",
    ")\n"
   ]
  },
  {
   "cell_type": "code",
   "execution_count": 50,
   "id": "6c46edc0",
   "metadata": {},
   "outputs": [],
   "source": [
    "# Montly avg sales \n",
    "df['MonthlyAvgSales'] = df.groupby(['year', 'month'])['TotalSales'].transform('mean')"
   ]
  },
  {
   "cell_type": "code",
   "execution_count": 52,
   "id": "97cf3b20",
   "metadata": {},
   "outputs": [],
   "source": [
    "# \n",
    "df['percent_contribution'] = df.groupby(['Retailer'])['TotalSales'].transform(lambda x: x / x.sum() * 100)"
   ]
  },
  {
   "cell_type": "code",
   "execution_count": 86,
   "id": "e7854c58",
   "metadata": {},
   "outputs": [
    {
     "data": {
      "image/png": "[encoded data removed]",
      "text/plain": [
       "<Figure size 800x600 with 2 Axes>"
      ]
     },
     "metadata": {},
     "output_type": "display_data"
    }
   ],
   "source": [
    "#correlation matrix between numerical columns only \n",
    "numeric_df = df.select_dtypes(include=['float64', 'int64'])\n",
    "correlation_matrix = numeric_df.corr()\n",
    "plt.figure(figsize=(8, 6))\n",
    "sns.heatmap(correlation_matrix, annot=True, cmap=\"coolwarm\", fmt=\".2f\", linewidths=0.5)\n",
    "plt.title('Correlation Matrix')\n",
    "plt.show()"
   ]
  },
  {
   "cell_type": "code",
   "execution_count": 88,
   "id": "aec3a8b0",
   "metadata": {},
   "outputs": [
    {
     "data": {
      "image/png": "[encoded data removed]",
      "text/plain": [
       "<Figure size 1000x800 with 2 Axes>"
      ]
     },
     "metadata": {},
     "output_type": "display_data"
    }
   ],
   "source": [
    "sales_corr=df[[\"UnitsSold\", \"TotalSales\"]].corr()\n",
    "plt.figure(figsize=(10, 8))\n",
    "sns.heatmap(sales_corr, annot=True, cmap=\"coolwarm\", fmt=\".2f\", linewidths=0.5)\n",
    "plt.title('Correlation Matrix')\n",
    "plt.show()"
   ]
  },
  {
   "cell_type": "markdown",
   "id": "a237c039",
   "metadata": {},
   "source": [
    "Aggregate "
   ]
  },
  {
   "cell_type": "code",
   "execution_count": 95,
   "id": "369e11ad",
   "metadata": {},
   "outputs": [
    {
     "data": {
      "text/html": [
       "<div>\n",
       "<style scoped>\n",
       "    .dataframe tbody tr th:only-of-type {\n",
       "        vertical-align: middle;\n",
       "    }\n",
       "\n",
       "    .dataframe tbody tr th {\n",
       "        vertical-align: top;\n",
       "    }\n",
       "\n",
       "    .dataframe thead th {\n",
       "        text-align: right;\n",
       "    }\n",
       "</style>\n",
       "<table border=\"1\" class=\"dataframe\">\n",
       "  <thead>\n",
       "    <tr style=\"text-align: right;\">\n",
       "      <th></th>\n",
       "      <th>City_count</th>\n",
       "    </tr>\n",
       "    <tr>\n",
       "      <th>Region</th>\n",
       "      <th></th>\n",
       "    </tr>\n",
       "  </thead>\n",
       "  <tbody>\n",
       "    <tr>\n",
       "      <th>Midwest</th>\n",
       "      <td>13</td>\n",
       "    </tr>\n",
       "    <tr>\n",
       "      <th>Northeast</th>\n",
       "      <td>13</td>\n",
       "    </tr>\n",
       "    <tr>\n",
       "      <th>South</th>\n",
       "      <td>8</td>\n",
       "    </tr>\n",
       "    <tr>\n",
       "      <th>Southeast</th>\n",
       "      <td>7</td>\n",
       "    </tr>\n",
       "    <tr>\n",
       "      <th>West</th>\n",
       "      <td>13</td>\n",
       "    </tr>\n",
       "  </tbody>\n",
       "</table>\n",
       "</div>"
      ],
      "text/plain": [
       "           City_count\n",
       "Region               \n",
       "Midwest            13\n",
       "Northeast          13\n",
       "South               8\n",
       "Southeast           7\n",
       "West               13"
      ]
     },
     "execution_count": 95,
     "metadata": {},
     "output_type": "execute_result"
    }
   ],
   "source": [
    "df.groupby('Region').agg(City_count=('City', 'nunique'))"
   ]
  },
  {
   "cell_type": "code",
   "execution_count": null,
   "id": "80e0ef04",
   "metadata": {},
   "outputs": [],
   "source": [
    "df.groupby(['Region'])"
   ]
  }
 ],
 "metadata": {
  "kernelspec": {
   "display_name": "mynewenv",
   "language": "python",
   "name": "python3"
  },
  "language_info": {
   "codemirror_mode": {
    "name": "ipython",
    "version": 3
   },
   "file_extension": ".py",
   "mimetype": "text/x-python",
   "name": "python",
   "nbconvert_exporter": "python",
   "pygments_lexer": "ipython3",
   "version": "3.10.18"
  }
 },
 "nbformat": 4,
 "nbformat_minor": 5
}
